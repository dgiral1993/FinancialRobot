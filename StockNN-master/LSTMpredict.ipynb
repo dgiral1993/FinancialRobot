{
 "cells": [
  {
   "cell_type": "code",
   "execution_count": 125,
   "metadata": {
    "collapsed": false
   },
   "outputs": [],
   "source": [
    "import pandas as pd\n",
    "import numpy as np\n",
    "from keras.layers.core import Dense, Activation, Dropout\n",
    "from keras.layers.recurrent import LSTM\n",
    "from keras.models import Sequential\n",
    "import matplotlib.pyplot as plt\n",
    "%matplotlib notebook"
   ]
  },
  {
   "cell_type": "code",
   "execution_count": 126,
   "metadata": {
    "collapsed": false
   },
   "outputs": [
    {
     "data": {
      "text/html": [
       "<div>\n",
       "<table border=\"1\" class=\"dataframe\">\n",
       "  <thead>\n",
       "    <tr style=\"text-align: right;\">\n",
       "      <th></th>\n",
       "      <th>Open</th>\n",
       "      <th>High</th>\n",
       "      <th>Low</th>\n",
       "      <th>Volume</th>\n",
       "      <th>Close</th>\n",
       "      <th>Adj Close</th>\n",
       "    </tr>\n",
       "  </thead>\n",
       "  <tbody>\n",
       "    <tr>\n",
       "      <th>count</th>\n",
       "      <td>2127.000000</td>\n",
       "      <td>2127.000000</td>\n",
       "      <td>2127.000000</td>\n",
       "      <td>2.127000e+03</td>\n",
       "      <td>2127.000000</td>\n",
       "      <td>2127.000000</td>\n",
       "    </tr>\n",
       "    <tr>\n",
       "      <th>mean</th>\n",
       "      <td>5809.744099</td>\n",
       "      <td>5853.275248</td>\n",
       "      <td>5758.625411</td>\n",
       "      <td>2.439480e+05</td>\n",
       "      <td>5806.533757</td>\n",
       "      <td>5806.533757</td>\n",
       "    </tr>\n",
       "    <tr>\n",
       "      <th>std</th>\n",
       "      <td>1427.126822</td>\n",
       "      <td>1421.379448</td>\n",
       "      <td>1428.948308</td>\n",
       "      <td>5.235836e+06</td>\n",
       "      <td>1424.112413</td>\n",
       "      <td>1424.112413</td>\n",
       "    </tr>\n",
       "    <tr>\n",
       "      <th>min</th>\n",
       "      <td>2526.199951</td>\n",
       "      <td>2585.300049</td>\n",
       "      <td>2252.750000</td>\n",
       "      <td>0.000000e+00</td>\n",
       "      <td>2524.199951</td>\n",
       "      <td>2524.199951</td>\n",
       "    </tr>\n",
       "    <tr>\n",
       "      <th>25%</th>\n",
       "      <td>5022.199951</td>\n",
       "      <td>5067.649902</td>\n",
       "      <td>4979.574951</td>\n",
       "      <td>0.000000e+00</td>\n",
       "      <td>5024.125000</td>\n",
       "      <td>5024.125000</td>\n",
       "    </tr>\n",
       "    <tr>\n",
       "      <th>50%</th>\n",
       "      <td>5568.399902</td>\n",
       "      <td>5608.200195</td>\n",
       "      <td>5524.100098</td>\n",
       "      <td>0.000000e+00</td>\n",
       "      <td>5565.649902</td>\n",
       "      <td>5565.649902</td>\n",
       "    </tr>\n",
       "    <tr>\n",
       "      <th>75%</th>\n",
       "      <td>6268.650147</td>\n",
       "      <td>6302.449951</td>\n",
       "      <td>6231.000000</td>\n",
       "      <td>1.257000e+05</td>\n",
       "      <td>6272.975098</td>\n",
       "      <td>6272.975098</td>\n",
       "    </tr>\n",
       "    <tr>\n",
       "      <th>max</th>\n",
       "      <td>9109.150391</td>\n",
       "      <td>9119.200195</td>\n",
       "      <td>8925.549805</td>\n",
       "      <td>1.631569e+08</td>\n",
       "      <td>8996.250000</td>\n",
       "      <td>8996.250000</td>\n",
       "    </tr>\n",
       "  </tbody>\n",
       "</table>\n",
       "</div>"
      ],
      "text/plain": [
       "              Open         High          Low        Volume        Close  \\\n",
       "count  2127.000000  2127.000000  2127.000000  2.127000e+03  2127.000000   \n",
       "mean   5809.744099  5853.275248  5758.625411  2.439480e+05  5806.533757   \n",
       "std    1427.126822  1421.379448  1428.948308  5.235836e+06  1424.112413   \n",
       "min    2526.199951  2585.300049  2252.750000  0.000000e+00  2524.199951   \n",
       "25%    5022.199951  5067.649902  4979.574951  0.000000e+00  5024.125000   \n",
       "50%    5568.399902  5608.200195  5524.100098  0.000000e+00  5565.649902   \n",
       "75%    6268.650147  6302.449951  6231.000000  1.257000e+05  6272.975098   \n",
       "max    9109.150391  9119.200195  8925.549805  1.631569e+08  8996.250000   \n",
       "\n",
       "         Adj Close  \n",
       "count  2127.000000  \n",
       "mean   5806.533757  \n",
       "std    1424.112413  \n",
       "min    2524.199951  \n",
       "25%    5024.125000  \n",
       "50%    5565.649902  \n",
       "75%    6272.975098  \n",
       "max    8996.250000  "
      ]
     },
     "execution_count": 126,
     "metadata": {},
     "output_type": "execute_result"
    }
   ],
   "source": [
    "data = pd.read_csv(\"tab.csv\")\n",
    "data.describe()\n",
    "closing_index = data[['Close']][::-1].values\n",
    "data.describe()"
   ]
  },
  {
   "cell_type": "code",
   "execution_count": 127,
   "metadata": {
    "collapsed": false
   },
   "outputs": [],
   "source": [
    "#make sequences of a given length\n",
    "sequence_length = 50\n",
    "result,normalised_data = [],[]\n",
    "for index in range(len(closing_index) - sequence_length):\n",
    "        result.append(closing_index[index: index + sequence_length])\n",
    "        \n",
    "#normalize in a window to detect percentage changes from the start\n",
    "for window in result:\n",
    "    normalised_window = [((float(p) / float(window[0])) - 1) for p in window]\n",
    "    normalised_data.append(normalised_window)\n",
    "normalised_data = np.array(normalised_data)"
   ]
  },
  {
   "cell_type": "code",
   "execution_count": 128,
   "metadata": {
    "collapsed": false
   },
   "outputs": [],
   "source": [
    "row = round(0.6 * normalised_data.shape[0])\n",
    "train = normalised_data[:int(row), :]\n",
    "np.random.shuffle(train)\n",
    "x_train = train[:, :-1]\n",
    "y_train = train[:, -1]\n",
    "x_test = normalised_data[int(row):, :-1]\n",
    "y_test = normalised_data[int(row):, -1]\n",
    "x_train = np.reshape(x_train, (x_train.shape[0], x_train.shape[1], 1))\n",
    "x_test = np.reshape(x_test, (x_test.shape[0], x_test.shape[1], 1))  "
   ]
  },
  {
   "cell_type": "code",
   "execution_count": 129,
   "metadata": {
    "collapsed": false
   },
   "outputs": [],
   "source": [
    "model = Sequential()\n",
    "model.add(LSTM(\n",
    "        input_dim=1,\n",
    "        output_dim=50,\n",
    "        return_sequences=True))\n",
    "model.add(Dropout(0.2))\n",
    "model.add(LSTM(\n",
    "        100,\n",
    "        return_sequences=False))\n",
    "model.add(Dropout(0.2))\n",
    "\n",
    "model.add(Dense(\n",
    "        output_dim=1))\n",
    "model.add(Activation(\"linear\"))\n",
    "model.compile(loss=\"mse\", optimizer=\"rmsprop\")"
   ]
  },
  {
   "cell_type": "code",
   "execution_count": null,
   "metadata": {
    "collapsed": false
   },
   "outputs": [],
   "source": [
    "model.fit(\n",
    "    x_train,\n",
    "    y_train,\n",
    "    batch_size=512,\n",
    "    nb_epoch=10,\n",
    "    validation_split=0.05)"
   ]
  },
  {
   "cell_type": "code",
   "execution_count": null,
   "metadata": {
    "collapsed": false
   },
   "outputs": [],
   "source": [
    "fig = plt.figure()\n",
    "ax = fig.add_subplot(111)\n",
    "ax.set_title('Predicted vs Actual')\n",
    "ax.set_ylabel('value')\n",
    "plt.plot([i for i in range(0,len(y_test))] , y_test)\n",
    "plt.plot([i for i in range(0,len(y_test))] , predicted , 'r')\n",
    "plt.show()"
   ]
  },
  {
   "cell_type": "code",
   "execution_count": null,
   "metadata": {
    "collapsed": true
   },
   "outputs": [],
   "source": []
  }
 ],
 "metadata": {
  "kernelspec": {
   "display_name": "Python 3",
   "language": "python",
   "name": "python3"
  },
  "language_info": {
   "codemirror_mode": {
    "name": "ipython",
    "version": 3
   },
   "file_extension": ".py",
   "mimetype": "text/x-python",
   "name": "python",
   "nbconvert_exporter": "python",
   "pygments_lexer": "ipython3",
   "version": "3.5.2"
  }
 },
 "nbformat": 4,
 "nbformat_minor": 2
}
